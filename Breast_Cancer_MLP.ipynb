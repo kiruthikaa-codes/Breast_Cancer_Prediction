{
  "cells": [
    {
      "cell_type": "markdown",
      "metadata": {
        "id": "view-in-github",
        "colab_type": "text"
      },
      "source": [
        "<a href=\"https://colab.research.google.com/github/kiruthikaa-codes/Breast_Cancer_Prediction/blob/main/22BDS0048_MLP.ipynb\" target=\"_parent\"><img src=\"https://colab.research.google.com/assets/colab-badge.svg\" alt=\"Open In Colab\"/></a>"
      ]
    },
    {
      "cell_type": "markdown",
      "metadata": {
        "id": "QaoyGv902seD"
      },
      "source": [
        "# To Train a Multi-Layer Perceptron (MLP) Using 5 Different Loss Functions:\n",
        "\n",
        "#### ~Kiruthika Murugesan 22BDS0048\n",
        "\n",
        "\n",
        "---\n",
        "\n",
        "---\n",
        "\n",
        "\n",
        "\n"
      ]
    },
    {
      "cell_type": "markdown",
      "metadata": {
        "id": "2NjSLTQ8y1Ud"
      },
      "source": [
        "### Installing Tensorflow framework:"
      ]
    },
    {
      "cell_type": "code",
      "execution_count": null,
      "metadata": {
        "id": "mfKR5n6Cu1co"
      },
      "outputs": [],
      "source": [
        "pip install tensorflow scikit-learn"
      ]
    },
    {
      "cell_type": "markdown",
      "metadata": {
        "id": "N5ME0iR73Kd4"
      },
      "source": [
        "## Import all necessary libraries and the breast cancer dataset:\n"
      ]
    },
    {
      "cell_type": "code",
      "execution_count": null,
      "metadata": {
        "id": "OVJw56uC3RQ4"
      },
      "outputs": [],
      "source": [
        "from sklearn.datasets import load_breast_cancer #breast cancer dataset from default sckikit learn package\n",
        "from sklearn.model_selection import train_test_split\n",
        "from sklearn.preprocessing import StandardScaler\n",
        "from datetime import datetime\n",
        "import numpy as np\n",
        "import tensorflow as tf\n",
        "from tensorflow.keras.models import Model\n",
        "from tensorflow.keras.layers import Dense, LeakyReLU, Input\n",
        "from tensorflow.keras.optimizers import Adam\n",
        "from tensorflow.keras.losses import (\n",
        "    MeanSquaredError,\n",
        "    MeanAbsoluteError,\n",
        "    CategoricalCrossentropy,\n",
        "    BinaryCrossentropy,\n",
        "    Hinge\n",
        ")"
      ]
    },
    {
      "cell_type": "code",
      "source": [
        "# defining the loss functions that we want to backpropagate with:\n",
        "losses = {\n",
        "    'MSE': MeanSquaredError(),\n",
        "    'MAE': MeanAbsoluteError(),\n",
        "    'CategoricalCrossEntropy': CategoricalCrossentropy(),\n",
        "    'Hinge': Hinge(),\n",
        "    'BinaryCrossEntropy': BinaryCrossentropy()\n",
        "}"
      ],
      "metadata": {
        "id": "Bp_zb3ZS5uLx"
      },
      "execution_count": null,
      "outputs": []
    },
    {
      "cell_type": "markdown",
      "metadata": {
        "id": "si-kYjdrzQFu"
      },
      "source": [
        "### Writing a function to print the paramters for each epoch:"
      ]
    },
    {
      "cell_type": "code",
      "execution_count": null,
      "metadata": {
        "id": "NRJyITD2rgRK"
      },
      "outputs": [],
      "source": [
        "class WeightPrinter(tf.keras.callbacks.Callback):\n",
        "    def on_epoch_end(self, epoch, logs=None):\n",
        "        print(f\"\\nEpoch {epoch + 1} - Learning Rate: {self.model.optimizer.learning_rate.numpy():.6f}\")\n",
        "        for i, layer in enumerate(self.model.layers):\n",
        "            weights = layer.get_weights()\n",
        "            if len(weights) > 0:\n",
        "                print(f\"Layer {i} ({layer.name}):\")\n",
        "                print(f\"  First weight values: {weights[0].flatten()[:3]}\")\n",
        "                print(f\"  First bias values: {weights[1][:3]}\")\n",
        "        print(\"=\" * 50)"
      ]
    },
    {
      "cell_type": "markdown",
      "metadata": {
        "id": "nZCH7Ght-w4T"
      },
      "source": [
        "### Load the dataset:"
      ]
    },
    {
      "cell_type": "code",
      "execution_count": null,
      "metadata": {
        "id": "lwzcU2GF-1Mm"
      },
      "outputs": [],
      "source": [
        "# this dataset has 569 rows ans 30 columns\n",
        "# output is binary--> 0 for cancerous, 1 for non-cancerous\n",
        "data = load_breast_cancer()\n",
        "x = data.data\n",
        "y = data.target\n",
        "\n",
        "scaler = StandardScaler()\n",
        "x = scaler.fit_transform(x)"
      ]
    },
    {
      "cell_type": "code",
      "execution_count": null,
      "metadata": {
        "id": "7QShjMaKrb1d"
      },
      "outputs": [],
      "source": [
        "# converting labels into one-hot encoding format:\n",
        "y = tf.keras.utils.to_categorical(y, num_classes=2)"
      ]
    },
    {
      "cell_type": "code",
      "execution_count": null,
      "metadata": {
        "id": "5Yp8cCVSro6I"
      },
      "outputs": [],
      "source": [
        "# obtaining train-test split from the dataset:\n",
        "x_train, x_test, y_train, y_test = train_test_split(x, y, test_size=0.2, random_state=42)"
      ]
    },
    {
      "cell_type": "code",
      "execution_count": null,
      "metadata": {
        "id": "77dpf52DrqqV"
      },
      "outputs": [],
      "source": [
        "# defining loss functions with which we want to back propogate the model:\n",
        "losses = {\n",
        "    'MSE': MeanSquaredError(),\n",
        "    'MAE': MeanAbsoluteError(),\n",
        "    'CategoricalCrossEntropy': CategoricalCrossentropy(),\n",
        "    'Hinge': Hinge(),\n",
        "    'BinaryCrossEntropy': BinaryCrossentropy()\n",
        "}"
      ]
    },
    {
      "cell_type": "markdown",
      "metadata": {
        "id": "RBJPkDSe3U8C"
      },
      "source": [
        "### Defining the model with 5 layers:\n"
      ]
    },
    {
      "cell_type": "code",
      "execution_count": null,
      "metadata": {
        "id": "wpOYTC3UrsEY"
      },
      "outputs": [],
      "source": [
        "def build_model(input_dim):\n",
        "    inputs = Input(shape=(input_dim,))\n",
        "    x = Dense(64, activation='relu', name='layer1_relu')(inputs)\n",
        "    x = Dense(64, activation='tanh', name='layer2_tanh')(x)\n",
        "    x = Dense(32, activation='sigmoid', name='layer3_sigmoid')(x)\n",
        "    x = Dense(32, name='layer4_dense')(x)\n",
        "    x = LeakyReLU(alpha=0.1, name='layer4_leakyrelu')(x)\n",
        "    outputs = Dense(2, activation='softmax', name='output_softmax')(x)\n",
        "    return Model(inputs=inputs, outputs=outputs, name=\"Kiruthika_Binary_MLP\")"
      ]
    },
    {
      "cell_type": "markdown",
      "metadata": {
        "id": "PaKY130j3dwa"
      },
      "source": [
        "### Backpropagation:"
      ]
    },
    {
      "cell_type": "code",
      "execution_count": null,
      "metadata": {
        "colab": {
          "base_uri": "https://localhost:8080/"
        },
        "id": "MJFNhLgSrsxI",
        "outputId": "eb5c93d1-eaa1-4128-f977-cd220ec483ea"
      },
      "outputs": [
        {
          "output_type": "stream",
          "name": "stdout",
          "text": [
            "\n",
            "----------Training with MSE Loss----------\n",
            "Initial Timestamp: 22-07-2025 16:11:54\n",
            "\n",
            "Starting training...\n",
            "Epoch 1/3\n"
          ]
        },
        {
          "output_type": "stream",
          "name": "stderr",
          "text": [
            "/usr/local/lib/python3.11/dist-packages/keras/src/layers/activations/leaky_relu.py:41: UserWarning: Argument `alpha` is deprecated. Use `negative_slope` instead.\n",
            "  warnings.warn(\n"
          ]
        },
        {
          "output_type": "stream",
          "name": "stdout",
          "text": [
            "\u001b[1m22/29\u001b[0m \u001b[32m━━━━━━━━━━━━━━━\u001b[0m\u001b[37m━━━━━\u001b[0m \u001b[1m0s\u001b[0m 2ms/step - accuracy: 0.7457 - loss: 0.1655\n",
            "Epoch 1 - Learning Rate: 0.001000\n",
            "Layer 1 (layer1_relu):\n",
            "  First weight values: [-0.03646178  0.18407518  0.12959825]\n",
            "  First bias values: [-0.00894619 -0.01578975  0.02206778]\n",
            "Layer 2 (layer2_tanh):\n",
            "  First weight values: [ 0.2279188  -0.05438863  0.08683119]\n",
            "  First bias values: [0.01024712 0.00046006 0.00774276]\n",
            "Layer 3 (layer3_sigmoid):\n",
            "  First weight values: [ 0.09505262 -0.03965396  0.24574606]\n",
            "  First bias values: [0.01505904 0.00346853 0.00929539]\n",
            "Layer 4 (layer4_dense):\n",
            "  First weight values: [-0.17584507 -0.07654802  0.04619415]\n",
            "  First bias values: [-0.00415668  0.00330207 -0.0040735 ]\n",
            "Layer 6 (output_softmax):\n",
            "  First weight values: [0.08164062 0.4334048  0.35311344]\n",
            "  First bias values: [ 0.00408737 -0.00408737]\n",
            "==================================================\n",
            "\u001b[1m29/29\u001b[0m \u001b[32m━━━━━━━━━━━━━━━━━━━━\u001b[0m\u001b[37m\u001b[0m \u001b[1m2s\u001b[0m 4ms/step - accuracy: 0.7756 - loss: 0.1546\n",
            "Epoch 2/3\n",
            "\u001b[1m22/29\u001b[0m \u001b[32m━━━━━━━━━━━━━━━\u001b[0m\u001b[37m━━━━━\u001b[0m \u001b[1m0s\u001b[0m 2ms/step - accuracy: 0.9818 - loss: 0.0365 \n",
            "Epoch 2 - Learning Rate: 0.001000\n",
            "Layer 1 (layer1_relu):\n",
            "  First weight values: [-0.04709182  0.18619381  0.13708717]\n",
            "  First bias values: [-0.00236989 -0.01569751  0.03207998]\n",
            "Layer 2 (layer2_tanh):\n",
            "  First weight values: [ 0.23862357 -0.06541605  0.09513343]\n",
            "  First bias values: [ 0.0244804  -0.00895073  0.01292497]\n",
            "Layer 3 (layer3_sigmoid):\n",
            "  First weight values: [ 0.097729   -0.03554016  0.24716252]\n",
            "  First bias values: [0.02740272 0.01179259 0.0172714 ]\n",
            "Layer 4 (layer4_dense):\n",
            "  First weight values: [-0.16260657 -0.08494312  0.05431005]\n",
            "  First bias values: [-0.00246195  0.00390484 -0.00551249]\n",
            "Layer 6 (output_softmax):\n",
            "  First weight values: [0.07026862 0.4447769  0.34703285]\n",
            "  First bias values: [ 0.00554598 -0.00554598]\n",
            "==================================================\n",
            "\u001b[1m29/29\u001b[0m \u001b[32m━━━━━━━━━━━━━━━━━━━━\u001b[0m\u001b[37m\u001b[0m \u001b[1m0s\u001b[0m 3ms/step - accuracy: 0.9806 - loss: 0.0352\n",
            "Epoch 3/3\n",
            "\u001b[1m21/29\u001b[0m \u001b[32m━━━━━━━━━━━━━━\u001b[0m\u001b[37m━━━━━━\u001b[0m \u001b[1m0s\u001b[0m 3ms/step - accuracy: 0.9808 - loss: 0.0192 \n",
            "Epoch 3 - Learning Rate: 0.001000\n",
            "Layer 1 (layer1_relu):\n",
            "  First weight values: [-0.04281963  0.18675773  0.13582808]\n",
            "  First bias values: [ 6.1565021e-05 -1.4589951e-02  3.6863104e-02]\n",
            "Layer 2 (layer2_tanh):\n",
            "  First weight values: [ 0.24149746 -0.0696208   0.09801456]\n",
            "  First bias values: [ 0.02806319 -0.01194773  0.01444192]\n",
            "Layer 3 (layer3_sigmoid):\n",
            "  First weight values: [ 0.09698677 -0.03657869  0.24569556]\n",
            "  First bias values: [0.02973703 0.01443879 0.02012882]\n",
            "Layer 4 (layer4_dense):\n",
            "  First weight values: [-0.15315384 -0.08711681  0.05664133]\n",
            "  First bias values: [ 0.00179164  0.00423496 -0.00596528]\n",
            "Layer 6 (output_softmax):\n",
            "  First weight values: [0.06532069 0.44972482 0.3460154 ]\n",
            "  First bias values: [ 0.0059931 -0.0059931]\n",
            "==================================================\n",
            "\u001b[1m29/29\u001b[0m \u001b[32m━━━━━━━━━━━━━━━━━━━━\u001b[0m\u001b[37m\u001b[0m \u001b[1m0s\u001b[0m 4ms/step - accuracy: 0.9810 - loss: 0.0189\n",
            "\n",
            "Final Test Accuracy with MSE: 0.9649\n",
            "Final Timestamp: 2025-07-22 16:11:57\n",
            "==================================================\n",
            "\n",
            "----------Training with MAE Loss----------\n",
            "Initial Timestamp: 22-07-2025 16:11:57\n",
            "\n",
            "Starting training...\n",
            "Epoch 1/3\n",
            "\u001b[1m21/29\u001b[0m \u001b[32m━━━━━━━━━━━━━━\u001b[0m\u001b[37m━━━━━━\u001b[0m \u001b[1m0s\u001b[0m 3ms/step - accuracy: 0.5642 - loss: 0.4620\n",
            "Epoch 1 - Learning Rate: 0.001000\n",
            "Layer 1 (layer1_relu):\n",
            "  First weight values: [-0.20748411 -0.2496336   0.0556588 ]\n",
            "  First bias values: [ 0.02780807  0.0146448  -0.00615696]\n",
            "Layer 2 (layer2_tanh):\n",
            "  First weight values: [-0.12907858  0.15254834  0.17048977]\n",
            "  First bias values: [ 0.01541727  0.01834642 -0.0111398 ]\n",
            "Layer 3 (layer3_sigmoid):\n",
            "  First weight values: [-0.075739    0.16134605 -0.02648625]\n",
            "  First bias values: [-0.02293091  0.0133754   0.01265544]\n",
            "Layer 4 (layer4_dense):\n",
            "  First weight values: [ 0.13701287 -0.17162128 -0.27657714]\n",
            "  First bias values: [-0.01128648  0.01519268 -0.01514529]\n",
            "Layer 6 (output_softmax):\n",
            "  First weight values: [ 0.04978988 -0.2642352   0.11298058]\n",
            "  First bias values: [-0.01500069  0.01500069]\n",
            "==================================================\n",
            "\u001b[1m29/29\u001b[0m \u001b[32m━━━━━━━━━━━━━━━━━━━━\u001b[0m\u001b[37m\u001b[0m \u001b[1m2s\u001b[0m 3ms/step - accuracy: 0.6174 - loss: 0.4382\n",
            "Epoch 2/3\n",
            "\u001b[1m25/29\u001b[0m \u001b[32m━━━━━━━━━━━━━━━━━\u001b[0m\u001b[37m━━━\u001b[0m \u001b[1m0s\u001b[0m 2ms/step - accuracy: 0.9253 - loss: 0.1637 \n",
            "Epoch 2 - Learning Rate: 0.001000\n",
            "Layer 1 (layer1_relu):\n",
            "  First weight values: [-0.2241086  -0.26447865  0.04531244]\n",
            "  First bias values: [0.04582549 0.02827114 0.00526754]\n",
            "Layer 2 (layer2_tanh):\n",
            "  First weight values: [-0.11174746  0.13304351  0.1521217 ]\n",
            "  First bias values: [ 0.02199885  0.01917379 -0.01467467]\n",
            "Layer 3 (layer3_sigmoid):\n",
            "  First weight values: [-0.07659121  0.17097078 -0.01739151]\n",
            "  First bias values: [-0.03472634  0.01397926  0.01846585]\n",
            "Layer 4 (layer4_dense):\n",
            "  First weight values: [ 0.15866438 -0.19128521 -0.2596727 ]\n",
            "  First bias values: [-0.00056329  0.01746267 -0.01722771]\n",
            "Layer 6 (output_softmax):\n",
            "  First weight values: [ 0.06606199 -0.28050733  0.09426238]\n",
            "  First bias values: [-0.01703729  0.01703729]\n",
            "==================================================\n",
            "\u001b[1m29/29\u001b[0m \u001b[32m━━━━━━━━━━━━━━━━━━━━\u001b[0m\u001b[37m\u001b[0m \u001b[1m0s\u001b[0m 3ms/step - accuracy: 0.9279 - loss: 0.1578\n",
            "Epoch 3/3\n",
            "\u001b[1m22/29\u001b[0m \u001b[32m━━━━━━━━━━━━━━━\u001b[0m\u001b[37m━━━━━\u001b[0m \u001b[1m0s\u001b[0m 2ms/step - accuracy: 0.9698 - loss: 0.0648 \n",
            "Epoch 3 - Learning Rate: 0.001000\n",
            "Layer 1 (layer1_relu):\n",
            "  First weight values: [-0.22928111 -0.2695485   0.04728556]\n",
            "  First bias values: [0.05072549 0.02897888 0.0151231 ]\n",
            "Layer 2 (layer2_tanh):\n",
            "  First weight values: [-0.10528297  0.12660272  0.14702311]\n",
            "  First bias values: [ 0.02011003  0.02224744 -0.01029222]\n",
            "Layer 3 (layer3_sigmoid):\n",
            "  First weight values: [-0.08056441  0.1731936  -0.01589923]\n",
            "  First bias values: [-0.03785343  0.01191142  0.01829264]\n",
            "Layer 4 (layer4_dense):\n",
            "  First weight values: [ 0.17205471 -0.19997391 -0.25089046]\n",
            "  First bias values: [ 0.00570138  0.01916871 -0.01677602]\n",
            "Layer 6 (output_softmax):\n",
            "  First weight values: [ 0.08998737 -0.30443266  0.08337707]\n",
            "  First bias values: [-0.01664774  0.01664774]\n",
            "==================================================\n",
            "\u001b[1m29/29\u001b[0m \u001b[32m━━━━━━━━━━━━━━━━━━━━\u001b[0m\u001b[37m\u001b[0m \u001b[1m0s\u001b[0m 3ms/step - accuracy: 0.9714 - loss: 0.0605\n",
            "\n",
            "Final Test Accuracy with MAE: 0.9825\n",
            "Final Timestamp: 2025-07-22 16:12:00\n",
            "==================================================\n",
            "\n",
            "----------Training with CategoricalCrossEntropy Loss----------\n",
            "Initial Timestamp: 22-07-2025 16:12:00\n",
            "\n",
            "Starting training...\n",
            "Epoch 1/3\n",
            "\u001b[1m23/29\u001b[0m \u001b[32m━━━━━━━━━━━━━━━\u001b[0m\u001b[37m━━━━━\u001b[0m \u001b[1m0s\u001b[0m 5ms/step - accuracy: 0.7392 - loss: 0.5242\n",
            "Epoch 1 - Learning Rate: 0.001000\n",
            "Layer 1 (layer1_relu):\n",
            "  First weight values: [-0.22327717  0.2533477  -0.09688614]\n",
            "  First bias values: [-0.01484721  0.02233078 -0.00455545]\n",
            "Layer 2 (layer2_tanh):\n",
            "  First weight values: [-0.19997412  0.14912438 -0.14598697]\n",
            "  First bias values: [0.01060426 0.01377992 0.00062881]\n",
            "Layer 3 (layer3_sigmoid):\n",
            "  First weight values: [ 0.0292751 -0.2533355  0.1863077]\n",
            "  First bias values: [-0.00234725 -0.00145949  0.01622798]\n",
            "Layer 4 (layer4_dense):\n",
            "  First weight values: [ 0.1758529  -0.2707036   0.18156269]\n",
            "  First bias values: [-4.4741863e-03  5.4302312e-05  1.5845632e-02]\n",
            "Layer 6 (output_softmax):\n",
            "  First weight values: [0.18762556 0.36353832 0.20859288]\n",
            "  First bias values: [-0.00017628  0.00017628]\n",
            "==================================================\n",
            "\u001b[1m29/29\u001b[0m \u001b[32m━━━━━━━━━━━━━━━━━━━━\u001b[0m\u001b[37m\u001b[0m \u001b[1m2s\u001b[0m 6ms/step - accuracy: 0.7608 - loss: 0.5002\n",
            "Epoch 2/3\n",
            "\u001b[1m29/29\u001b[0m \u001b[32m━━━━━━━━━━━━━━━━━━━━\u001b[0m\u001b[37m\u001b[0m \u001b[1m0s\u001b[0m 4ms/step - accuracy: 0.9708 - loss: 0.1545\n",
            "Epoch 2 - Learning Rate: 0.001000\n",
            "Layer 1 (layer1_relu):\n",
            "  First weight values: [-0.22786121  0.26860484 -0.10454983]\n",
            "  First bias values: [-0.01721664  0.03726015 -0.00628666]\n",
            "Layer 2 (layer2_tanh):\n",
            "  First weight values: [-0.20041335  0.15295844 -0.14695285]\n",
            "  First bias values: [ 0.0155024   0.01885191 -0.00024778]\n",
            "Layer 3 (layer3_sigmoid):\n",
            "  First weight values: [ 0.02425481 -0.267469    0.204523  ]\n",
            "  First bias values: [-0.00673786 -0.00077334  0.02501049]\n",
            "Layer 4 (layer4_dense):\n",
            "  First weight values: [ 0.1750387  -0.2711905   0.18974322]\n",
            "  First bias values: [-0.00688633 -0.00360465  0.02615554]\n",
            "Layer 6 (output_softmax):\n",
            "  First weight values: [0.18968901 0.3614749  0.20580684]\n",
            "  First bias values: [ 0.00330624 -0.00330624]\n",
            "==================================================\n",
            "\u001b[1m29/29\u001b[0m \u001b[32m━━━━━━━━━━━━━━━━━━━━\u001b[0m\u001b[37m\u001b[0m \u001b[1m0s\u001b[0m 5ms/step - accuracy: 0.9706 - loss: 0.1539\n",
            "Epoch 3/3\n",
            "\u001b[1m16/29\u001b[0m \u001b[32m━━━━━━━━━━━\u001b[0m\u001b[37m━━━━━━━━━\u001b[0m \u001b[1m0s\u001b[0m 4ms/step - accuracy: 0.9687 - loss: 0.0904 \n",
            "Epoch 3 - Learning Rate: 0.001000\n",
            "Layer 1 (layer1_relu):\n",
            "  First weight values: [-0.22575206  0.27150962 -0.09990875]\n",
            "  First bias values: [-0.01212098  0.03444148  0.00755785]\n",
            "Layer 2 (layer2_tanh):\n",
            "  First weight values: [-0.19761722  0.1537332  -0.1438436 ]\n",
            "  First bias values: [ 0.01202043  0.02180241 -0.00495043]\n",
            "Layer 3 (layer3_sigmoid):\n",
            "  First weight values: [ 0.02161731 -0.27089685  0.2097907 ]\n",
            "  First bias values: [-0.00392797  0.00297759  0.02447034]\n",
            "Layer 4 (layer4_dense):\n",
            "  First weight values: [ 0.17601825 -0.26920137  0.1907497 ]\n",
            "  First bias values: [-0.0068151  -0.00325388  0.02852353]\n",
            "Layer 6 (output_softmax):\n",
            "  First weight values: [0.18945514 0.36170882 0.20148705]\n",
            "  First bias values: [ 0.00319449 -0.00319449]\n",
            "==================================================\n",
            "\u001b[1m29/29\u001b[0m \u001b[32m━━━━━━━━━━━━━━━━━━━━\u001b[0m\u001b[37m\u001b[0m \u001b[1m0s\u001b[0m 5ms/step - accuracy: 0.9688 - loss: 0.0882\n",
            "\n",
            "Final Test Accuracy with CategoricalCrossEntropy: 0.9825\n",
            "Final Timestamp: 2025-07-22 16:12:03\n",
            "==================================================\n",
            "\n",
            "----------Training with Hinge Loss----------\n",
            "Initial Timestamp: 22-07-2025 16:12:03\n",
            "\n",
            "Starting training...\n",
            "Epoch 1/3\n",
            "\u001b[1m18/29\u001b[0m \u001b[32m━━━━━━━━━━━━\u001b[0m\u001b[37m━━━━━━━━\u001b[0m \u001b[1m0s\u001b[0m 3ms/step - accuracy: 0.6121 - loss: 0.9369\n",
            "Epoch 1 - Learning Rate: 0.001000\n",
            "Layer 1 (layer1_relu):\n",
            "  First weight values: [-0.2539469   0.18904276  0.12933387]\n",
            "  First bias values: [ 0.01551996  0.01199309 -0.01417504]\n",
            "Layer 2 (layer2_tanh):\n",
            "  First weight values: [-0.00779545 -0.01657018 -0.14614475]\n",
            "  First bias values: [ 0.00984167 -0.00768244  0.01531275]\n",
            "Layer 3 (layer3_sigmoid):\n",
            "  First weight values: [0.22364067 0.09464014 0.05347168]\n",
            "  First bias values: [ 0.01240462 -0.00438063 -0.01941689]\n",
            "Layer 4 (layer4_dense):\n",
            "  First weight values: [0.15189192 0.22573379 0.05914737]\n",
            "  First bias values: [0.01050926 0.01036135 0.01009688]\n",
            "Layer 6 (output_softmax):\n",
            "  First weight values: [-0.09466293  0.2589684  -0.38541844]\n",
            "  First bias values: [-0.01054777  0.01054777]\n",
            "==================================================\n",
            "\u001b[1m29/29\u001b[0m \u001b[32m━━━━━━━━━━━━━━━━━━━━\u001b[0m\u001b[37m\u001b[0m \u001b[1m2s\u001b[0m 4ms/step - accuracy: 0.6261 - loss: 0.9094\n",
            "Epoch 2/3\n",
            "\u001b[1m23/29\u001b[0m \u001b[32m━━━━━━━━━━━━━━━\u001b[0m\u001b[37m━━━━━\u001b[0m \u001b[1m0s\u001b[0m 2ms/step - accuracy: 0.9176 - loss: 0.6799 \n",
            "Epoch 2 - Learning Rate: 0.001000\n",
            "Layer 1 (layer1_relu):\n",
            "  First weight values: [-0.2710033   0.21234618  0.13445337]\n",
            "  First bias values: [ 0.01508922  0.02669717 -0.01412293]\n",
            "Layer 2 (layer2_tanh):\n",
            "  First weight values: [-0.00696634 -0.0164116  -0.13883202]\n",
            "  First bias values: [0.0045887  0.00151524 0.01809801]\n",
            "Layer 3 (layer3_sigmoid):\n",
            "  First weight values: [0.22537641 0.09151416 0.07274009]\n",
            "  First bias values: [ 0.00829179  0.00490709 -0.00746923]\n",
            "Layer 4 (layer4_dense):\n",
            "  First weight values: [0.15794024 0.22571872 0.0600626 ]\n",
            "  First bias values: [ 0.00821972 -0.00018315  0.00032981]\n",
            "Layer 6 (output_softmax):\n",
            "  First weight values: [-0.11172685  0.27603227 -0.3815967 ]\n",
            "  First bias values: [ 0.00071431 -0.0007143 ]\n",
            "==================================================\n",
            "\u001b[1m29/29\u001b[0m \u001b[32m━━━━━━━━━━━━━━━━━━━━\u001b[0m\u001b[37m\u001b[0m \u001b[1m0s\u001b[0m 4ms/step - accuracy: 0.9213 - loss: 0.6697\n",
            "Epoch 3/3\n",
            "\u001b[1m22/29\u001b[0m \u001b[32m━━━━━━━━━━━━━━━\u001b[0m\u001b[37m━━━━━\u001b[0m \u001b[1m0s\u001b[0m 2ms/step - accuracy: 0.9729 - loss: 0.5520 \n",
            "Epoch 3 - Learning Rate: 0.001000\n",
            "Layer 1 (layer1_relu):\n",
            "  First weight values: [-0.27542943  0.2171842   0.14184496]\n",
            "  First bias values: [ 0.00704991  0.02977061 -0.00966519]\n",
            "Layer 2 (layer2_tanh):\n",
            "  First weight values: [-0.01387013 -0.01214482 -0.13953102]\n",
            "  First bias values: [-0.00115766  0.00518854  0.01828881]\n",
            "Layer 3 (layer3_sigmoid):\n",
            "  First weight values: [0.23131321 0.08164524 0.08368528]\n",
            "  First bias values: [0.00792543 0.00911901 0.0016247 ]\n",
            "Layer 4 (layer4_dense):\n",
            "  First weight values: [0.16536385 0.23115681 0.06718331]\n",
            "  First bias values: [ 0.00951007 -0.0009695   0.00098792]\n",
            "Layer 6 (output_softmax):\n",
            "  First weight values: [-0.12076363  0.28506914 -0.38724124]\n",
            "  First bias values: [ 0.00458849 -0.00458848]\n",
            "==================================================\n",
            "\u001b[1m29/29\u001b[0m \u001b[32m━━━━━━━━━━━━━━━━━━━━\u001b[0m\u001b[37m\u001b[0m \u001b[1m0s\u001b[0m 3ms/step - accuracy: 0.9713 - loss: 0.5521\n",
            "\n",
            "Final Test Accuracy with Hinge: 0.9737\n",
            "Final Timestamp: 2025-07-22 16:12:06\n",
            "==================================================\n",
            "\n",
            "----------Training with BinaryCrossEntropy Loss----------\n",
            "Initial Timestamp: 22-07-2025 16:12:06\n",
            "\n",
            "Starting training...\n",
            "Epoch 1/3\n",
            "\u001b[1m23/29\u001b[0m \u001b[32m━━━━━━━━━━━━━━━\u001b[0m\u001b[37m━━━━━\u001b[0m \u001b[1m0s\u001b[0m 2ms/step - accuracy: 0.6529 - loss: 0.6256\n",
            "Epoch 1 - Learning Rate: 0.001000\n",
            "Layer 1 (layer1_relu):\n",
            "  First weight values: [0.05204088 0.25362065 0.16018677]\n",
            "  First bias values: [ 0.00972231 -0.01273713  0.02222513]\n",
            "Layer 2 (layer2_tanh):\n",
            "  First weight values: [ 0.01100425  0.00570747 -0.04288185]\n",
            "  First bias values: [-0.01619125  0.01417978  0.011508  ]\n",
            "Layer 3 (layer3_sigmoid):\n",
            "  First weight values: [ 0.062994   -0.09709981 -0.00847272]\n",
            "  First bias values: [0.00264695 0.01147364 0.00640873]\n",
            "Layer 4 (layer4_dense):\n",
            "  First weight values: [ 0.3086544  -0.17782809 -0.14718309]\n",
            "  First bias values: [0.01734618 0.01669933 0.01402078]\n",
            "Layer 6 (output_softmax):\n",
            "  First weight values: [ 0.04356096 -0.2661911  -0.0512885 ]\n",
            "  First bias values: [-0.01225114 -0.00063153]\n",
            "==================================================\n",
            "\u001b[1m29/29\u001b[0m \u001b[32m━━━━━━━━━━━━━━━━━━━━\u001b[0m\u001b[37m\u001b[0m \u001b[1m2s\u001b[0m 3ms/step - accuracy: 0.6704 - loss: 0.6088\n",
            "Epoch 2/3\n",
            "\u001b[1m22/29\u001b[0m \u001b[32m━━━━━━━━━━━━━━━\u001b[0m\u001b[37m━━━━━\u001b[0m \u001b[1m0s\u001b[0m 2ms/step - accuracy: 0.9337 - loss: 0.3144 \n",
            "Epoch 2 - Learning Rate: 0.001000\n",
            "Layer 1 (layer1_relu):\n",
            "  First weight values: [0.03560338 0.26565257 0.13870084]\n",
            "  First bias values: [ 0.00662552 -0.00442821  0.03489177]\n",
            "Layer 2 (layer2_tanh):\n",
            "  First weight values: [-0.00566954  0.01410575 -0.02474678]\n",
            "  First bias values: [-0.02093934  0.03461709  0.0187261 ]\n",
            "Layer 3 (layer3_sigmoid):\n",
            "  First weight values: [ 0.03257208 -0.11602628 -0.0308958 ]\n",
            "  First bias values: [0.0246946  0.02645646 0.00529784]\n",
            "Layer 4 (layer4_dense):\n",
            "  First weight values: [ 0.31599957 -0.15862645 -0.14248262]\n",
            "  First bias values: [0.03327257 0.04199887 0.01303715]\n",
            "Layer 6 (output_softmax):\n",
            "  First weight values: [ 0.07658464 -0.29824862 -0.01433398]\n",
            "  First bias values: [-0.00640192 -0.00658286]\n",
            "==================================================\n",
            "\u001b[1m29/29\u001b[0m \u001b[32m━━━━━━━━━━━━━━━━━━━━\u001b[0m\u001b[37m\u001b[0m \u001b[1m0s\u001b[0m 3ms/step - accuracy: 0.9354 - loss: 0.2989\n",
            "Epoch 3/3\n",
            "\u001b[1m18/29\u001b[0m \u001b[32m━━━━━━━━━━━━\u001b[0m\u001b[37m━━━━━━━━\u001b[0m \u001b[1m0s\u001b[0m 3ms/step - accuracy: 0.9668 - loss: 0.1261 \n",
            "Epoch 3 - Learning Rate: 0.001000\n",
            "Layer 1 (layer1_relu):\n",
            "  First weight values: [0.03710243 0.26437593 0.13901006]\n",
            "  First bias values: [ 0.00584452 -0.00317605  0.04611537]\n",
            "Layer 2 (layer2_tanh):\n",
            "  First weight values: [-0.01159256  0.00982289 -0.01843852]\n",
            "  First bias values: [-0.02198769  0.0363127   0.02293978]\n",
            "Layer 3 (layer3_sigmoid):\n",
            "  First weight values: [ 0.01495366 -0.13050649 -0.04345632]\n",
            "  First bias values: [0.03875263 0.03846885 0.00647953]\n",
            "Layer 4 (layer4_dense):\n",
            "  First weight values: [ 0.31634727 -0.15720524 -0.13388762]\n",
            "  First bias values: [0.04030951 0.05207888 0.01670316]\n",
            "Layer 6 (output_softmax):\n",
            "  First weight values: [ 0.09431457 -0.31729975  0.00705546]\n",
            "  First bias values: [-0.00531231 -0.00973623]\n",
            "==================================================\n",
            "\u001b[1m29/29\u001b[0m \u001b[32m━━━━━━━━━━━━━━━━━━━━\u001b[0m\u001b[37m\u001b[0m \u001b[1m0s\u001b[0m 4ms/step - accuracy: 0.9691 - loss: 0.1226\n",
            "\n",
            "Final Test Accuracy with BinaryCrossEntropy: 0.9825\n",
            "Final Timestamp: 2025-07-22 16:12:09\n",
            "==================================================\n"
          ]
        }
      ],
      "source": [
        "for name, loss_fn in losses.items():\n",
        "    print(f\"\\n----------Training with {name} Loss----------\")\n",
        "    print(\"Initial Timestamp:\", datetime.now().strftime(\"%d-%m-%Y %H:%M:%S\"))\n",
        "\n",
        "    model = build_model(x.shape[1])\n",
        "    model.compile(optimizer=Adam(learning_rate=0.001), loss=loss_fn, metrics=['accuracy'])\n",
        "\n",
        "    print(\"\\nStarting training...\")\n",
        "    model.fit(\n",
        "        x_train,\n",
        "        y_train,\n",
        "        epochs=3,\n",
        "        batch_size=16,\n",
        "        verbose=1,\n",
        "        callbacks=[WeightPrinter()]\n",
        "    )\n",
        "\n",
        "    # evaluating for accuracy:\n",
        "    test_loss, test_acc = model.evaluate(x_test, y_test, verbose=0)\n",
        "    print(f\"\\nFinal Test Accuracy with {name}: {test_acc:.4f}\")\n",
        "    print(\"Final Timestamp:\", datetime.now().strftime(\"%Y-%m-%d %H:%M:%S\"))\n",
        "    print(\"=\" * 50)"
      ]
    },
    {
      "cell_type": "markdown",
      "metadata": {
        "id": "lfRtFPmA3noV"
      },
      "source": [
        "##### ~Kiruthika Murugesan 22BDS0048\n"
      ]
    },
    {
      "cell_type": "code",
      "execution_count": null,
      "metadata": {
        "id": "95Io8fw-4brl"
      },
      "outputs": [],
      "source": []
    }
  ],
  "metadata": {
    "colab": {
      "provenance": [],
      "authorship_tag": "ABX9TyPq7yJuuSLJVecuNsZsXP73",
      "include_colab_link": true
    },
    "kernelspec": {
      "display_name": "Python 3",
      "name": "python3"
    },
    "language_info": {
      "name": "python"
    }
  },
  "nbformat": 4,
  "nbformat_minor": 0
}
